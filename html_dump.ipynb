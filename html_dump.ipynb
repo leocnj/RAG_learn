{
 "cells": [
  {
   "cell_type": "markdown",
   "metadata": {},
   "source": [
    "# Prepare HTML pages for use with RAG"
   ]
  },
  {
   "cell_type": "code",
   "execution_count": 4,
   "metadata": {},
   "outputs": [
    {
     "name": "stdout",
     "output_type": "stream",
     "text": [
      "Note: you may need to restart the kernel to use updated packages.\n",
      "\u001b[31mERROR: pip's dependency resolver does not currently take into account all the packages that are installed. This behaviour is the source of the following dependency conflicts.\n",
      "kobe 2.0 requires sacrebleu>=2.0.0, but you have sacrebleu 1.5.0 which is incompatible.\u001b[0m\u001b[31m\n",
      "\u001b[0mNote: you may need to restart the kernel to use updated packages.\n"
     ]
    }
   ],
   "source": [
    "%pip install -qU langchain tqdm transformers\n",
    "%pip install -qU requests"
   ]
  },
  {
   "cell_type": "code",
   "execution_count": 15,
   "metadata": {},
   "outputs": [],
   "source": [
    "import requests\n",
    "import os\n",
    "\n",
    "def download_urls(urls, saved_dir):\n",
    "    for url in urls:\n",
    "        response = requests.get(url)\n",
    "        out_file = os.path.join(saved_dir, '_'.join(url.split('/')[3:-1]) + '.html')\n",
    "        print(f'{url}->{out_file}')\n",
    "        with open(out_file, 'wb') as f:\n",
    "            f.write(response.content)\n",
    "\n",
    "# Example usage\n",
    "url_list = ['https://www.va.gov/disability/after-you-file-claim/',\n",
    "            'https://www.va.gov/change-address/',\n",
    "            'https://www.va.gov/change-direct-deposit/',\n",
    "            'https://www.va.gov/claim-or-appeal-status/',\n",
    "            'https://www.va.gov/decision-reviews/',\n",
    "            'https://www.va.gov/disability/dependency-indemnity-compensation/',\n",
    "            'https://www.va.gov/disability/eligibility/hazardous-materials-exposure/',\n",
    "            'https://www.va.gov/disability/eligibility/illnesses-within-one-year-of-discharge/',\n",
    "            'https://www.va.gov/disability/eligibility/ptsd/',\n",
    "            'https://www.va.gov/disability/eligibility/special-claims/',\n",
    "            'https://www.va.gov/disability/eligibility/',\n",
    "            'https://www.va.gov/disability/file-disability-claim-form-21-526ez/',\n",
    "            'https://www.va.gov/disability/how-to-file-claim/additional-forms/',\n",
    "            'https://www.va.gov/disability/how-to-file-claim/evidence-needed/fully-developed-claims/',\n",
    "            'https://www.va.gov/disability/how-to-file-claim/when-to-file/',\n",
    "            'https://www.va.gov/disability/how-to-file-claim/evidence-needed/',\n",
    "            'https://www.va.gov/disability/how-to-file-claim/',\n",
    "            'https://www.va.gov/disability/upload-supporting-evidence/',\n",
    "            'https://www.va.gov/va-payment-history/',\n",
    "            'https://www.va.gov/disability/view-disability-rating/',\n",
    "            'https://www.va.gov/disability/how-to-file-claim/additional-forms/'\n",
    "            ]\n"
   ]
  },
  {
   "cell_type": "code",
   "execution_count": 16,
   "metadata": {},
   "outputs": [
    {
     "name": "stdout",
     "output_type": "stream",
     "text": [
      "https://www.va.gov/disability/after-you-file-claim/->input/va/disability_after-you-file-claim.html\n",
      "https://www.va.gov/change-address/->input/va/change-address.html\n",
      "https://www.va.gov/change-direct-deposit/->input/va/change-direct-deposit.html\n",
      "https://www.va.gov/claim-or-appeal-status/->input/va/claim-or-appeal-status.html\n",
      "https://www.va.gov/decision-reviews/->input/va/decision-reviews.html\n",
      "https://www.va.gov/disability/dependency-indemnity-compensation/->input/va/disability_dependency-indemnity-compensation.html\n",
      "https://www.va.gov/disability/eligibility/hazardous-materials-exposure/->input/va/disability_eligibility_hazardous-materials-exposure.html\n",
      "https://www.va.gov/disability/eligibility/illnesses-within-one-year-of-discharge/->input/va/disability_eligibility_illnesses-within-one-year-of-discharge.html\n",
      "https://www.va.gov/disability/eligibility/ptsd/->input/va/disability_eligibility_ptsd.html\n",
      "https://www.va.gov/disability/eligibility/special-claims/->input/va/disability_eligibility_special-claims.html\n",
      "https://www.va.gov/disability/eligibility/->input/va/disability_eligibility.html\n",
      "https://www.va.gov/disability/file-disability-claim-form-21-526ez/->input/va/disability_file-disability-claim-form-21-526ez.html\n",
      "https://www.va.gov/disability/how-to-file-claim/additional-forms/->input/va/disability_how-to-file-claim_additional-forms.html\n",
      "https://www.va.gov/disability/how-to-file-claim/evidence-needed/fully-developed-claims/->input/va/disability_how-to-file-claim_evidence-needed_fully-developed-claims.html\n",
      "https://www.va.gov/disability/how-to-file-claim/when-to-file/->input/va/disability_how-to-file-claim_when-to-file.html\n",
      "https://www.va.gov/disability/how-to-file-claim/evidence-needed/->input/va/disability_how-to-file-claim_evidence-needed.html\n",
      "https://www.va.gov/disability/how-to-file-claim/->input/va/disability_how-to-file-claim.html\n",
      "https://www.va.gov/disability/upload-supporting-evidence/->input/va/disability_upload-supporting-evidence.html\n",
      "https://www.va.gov/va-payment-history/->input/va/va-payment-history.html\n",
      "https://www.va.gov/disability/view-disability-rating/->input/va/disability_view-disability-rating.html\n",
      "https://www.va.gov/disability/how-to-file-claim/additional-forms/->input/va/disability_how-to-file-claim_additional-forms.html\n"
     ]
    }
   ],
   "source": [
    "# download_urls(url_list, 'input/va')"
   ]
  },
  {
   "cell_type": "code",
   "execution_count": 17,
   "metadata": {},
   "outputs": [
    {
     "data": {
      "text/plain": [
       "20"
      ]
     },
     "execution_count": 17,
     "metadata": {},
     "output_type": "execute_result"
    }
   ],
   "source": [
    "from langchain.document_loaders import DirectoryLoader\n",
    "from langchain.document_loaders import BSHTMLLoader\n",
    "\n",
    "loader = DirectoryLoader('input/va', glob=\"*.html\", loader_cls=BSHTMLLoader)\n",
    "docs = loader.load()\n",
    "len(docs)"
   ]
  },
  {
   "cell_type": "code",
   "execution_count": 27,
   "metadata": {},
   "outputs": [],
   "source": [
    "import tiktoken\n",
    "\n",
    "tokenizer = tiktoken.get_encoding('cl100k_base')\n",
    "\n",
    "# create the length function\n",
    "def tiktoken_len(text):\n",
    "    tokens = tokenizer.encode(\n",
    "        text,\n",
    "        disallowed_special=()\n",
    "    )\n",
    "    return len(tokens)"
   ]
  },
  {
   "cell_type": "code",
   "execution_count": 28,
   "metadata": {},
   "outputs": [
    {
     "name": "stdout",
     "output_type": "stream",
     "text": [
      "Min: 200\n",
      "Avg: 1267\n",
      "Max: 3185\n"
     ]
    }
   ],
   "source": [
    "token_counts = [tiktoken_len(doc.page_content) for doc in docs]\n",
    "print(f\"\"\"Min: {min(token_counts)}\n",
    "Avg: {int(sum(token_counts) / len(token_counts))}\n",
    "Max: {max(token_counts)}\"\"\")"
   ]
  },
  {
   "cell_type": "code",
   "execution_count": 30,
   "metadata": {},
   "outputs": [
    {
     "name": "stdout",
     "output_type": "stream",
     "text": [
      "Collecting seaborn\n",
      "  Using cached seaborn-0.13.0-py3-none-any.whl (294 kB)\n",
      "Requirement already satisfied: numpy!=1.24.0,>=1.20 in /Users/lei.a.chen/opt/anaconda3/envs/p39/lib/python3.9/site-packages (from seaborn) (1.23.1)\n",
      "Requirement already satisfied: matplotlib!=3.6.1,>=3.3 in /Users/lei.a.chen/opt/anaconda3/envs/p39/lib/python3.9/site-packages (from seaborn) (3.5.2)\n",
      "Requirement already satisfied: pandas>=1.2 in /Users/lei.a.chen/opt/anaconda3/envs/p39/lib/python3.9/site-packages (from seaborn) (1.4.3)\n",
      "Requirement already satisfied: pillow>=6.2.0 in /Users/lei.a.chen/opt/anaconda3/envs/p39/lib/python3.9/site-packages (from matplotlib!=3.6.1,>=3.3->seaborn) (9.2.0)\n",
      "Requirement already satisfied: pyparsing>=2.2.1 in /Users/lei.a.chen/opt/anaconda3/envs/p39/lib/python3.9/site-packages (from matplotlib!=3.6.1,>=3.3->seaborn) (3.0.9)\n",
      "Requirement already satisfied: cycler>=0.10 in /Users/lei.a.chen/opt/anaconda3/envs/p39/lib/python3.9/site-packages (from matplotlib!=3.6.1,>=3.3->seaborn) (0.11.0)\n",
      "Requirement already satisfied: kiwisolver>=1.0.1 in /Users/lei.a.chen/opt/anaconda3/envs/p39/lib/python3.9/site-packages (from matplotlib!=3.6.1,>=3.3->seaborn) (1.4.4)\n",
      "Requirement already satisfied: python-dateutil>=2.7 in /Users/lei.a.chen/opt/anaconda3/envs/p39/lib/python3.9/site-packages (from matplotlib!=3.6.1,>=3.3->seaborn) (2.8.2)\n",
      "Requirement already satisfied: packaging>=20.0 in /Users/lei.a.chen/opt/anaconda3/envs/p39/lib/python3.9/site-packages (from matplotlib!=3.6.1,>=3.3->seaborn) (21.3)\n",
      "Requirement already satisfied: fonttools>=4.22.0 in /Users/lei.a.chen/opt/anaconda3/envs/p39/lib/python3.9/site-packages (from matplotlib!=3.6.1,>=3.3->seaborn) (4.34.4)\n",
      "Requirement already satisfied: pytz>=2020.1 in /Users/lei.a.chen/opt/anaconda3/envs/p39/lib/python3.9/site-packages (from pandas>=1.2->seaborn) (2022.1)\n",
      "Requirement already satisfied: six>=1.5 in /Users/lei.a.chen/opt/anaconda3/envs/p39/lib/python3.9/site-packages (from python-dateutil>=2.7->matplotlib!=3.6.1,>=3.3->seaborn) (1.16.0)\n",
      "Installing collected packages: seaborn\n",
      "Successfully installed seaborn-0.13.0\n",
      "Note: you may need to restart the kernel to use updated packages.\n"
     ]
    }
   ],
   "source": [
    "%pip install seaborn"
   ]
  },
  {
   "cell_type": "code",
   "execution_count": 31,
   "metadata": {},
   "outputs": [
    {
     "data": {
      "image/png": "[encoded data removed]",
      "text/plain": [
       "<Figure size 864x432 with 1 Axes>"
      ]
     },
     "metadata": {
      "needs_background": "light"
     },
     "output_type": "display_data"
    }
   ],
   "source": [
    "import matplotlib.pyplot as plt\n",
    "import seaborn as sns\n",
    "\n",
    "# set style and color palette for the plot\n",
    "sns.set_style(\"whitegrid\")\n",
    "sns.set_palette(\"muted\")\n",
    "\n",
    "# create histogram\n",
    "plt.figure(figsize=(12, 6))\n",
    "sns.histplot(token_counts, kde=False, bins=50)\n",
    "\n",
    "# customize the plot info\n",
    "plt.title(\"Token Counts Histogram\")\n",
    "plt.xlabel(\"Token Count\")\n",
    "plt.ylabel(\"Frequency\")\n",
    "\n",
    "plt.show()"
   ]
  },
  {
   "cell_type": "code",
   "execution_count": 32,
   "metadata": {},
   "outputs": [],
   "source": [
    "from langchain.text_splitter import RecursiveCharacterTextSplitter\n",
    "\n",
    "text_splitter = RecursiveCharacterTextSplitter(\n",
    "    chunk_size=400,\n",
    "    chunk_overlap=20,  # number of tokens overlap between chunks\n",
    "    length_function=tiktoken_len,\n",
    "    separators=['\\n\\n', '\\n', ' ', '']\n",
    ")"
   ]
  },
  {
   "cell_type": "code",
   "execution_count": 36,
   "metadata": {},
   "outputs": [
    {
     "data": {
      "text/plain": [
       "{'source': 'input/va/claim-or-appeal-status.html', 'title': 'Check Your VA Claim, Decision Review, Or Appeal Status | Veterans Affairs'}"
      ]
     },
     "execution_count": 36,
     "metadata": {},
     "output_type": "execute_result"
    }
   ],
   "source": [
    "docs[0].metadata"
   ]
  },
  {
   "cell_type": "code",
   "execution_count": 37,
   "metadata": {},
   "outputs": [
    {
     "name": "stderr",
     "output_type": "stream",
     "text": [
      "/Users/lei.a.chen/opt/anaconda3/envs/p39/lib/python3.9/site-packages/tqdm/auto.py:21: TqdmWarning: IProgress not found. Please update jupyter and ipywidgets. See https://ipywidgets.readthedocs.io/en/stable/user_install.html\n",
      "  from .autonotebook import tqdm as notebook_tqdm\n",
      "100%|██████████| 20/20 [00:00<00:00, 128.04it/s]\n"
     ]
    },
    {
     "data": {
      "text/plain": [
       "93"
      ]
     },
     "execution_count": 37,
     "metadata": {},
     "output_type": "execute_result"
    }
   ],
   "source": [
    "from tqdm.auto import tqdm\n",
    "import hashlib\n",
    "\n",
    "md5 = hashlib.md5()\n",
    "documents = []\n",
    "\n",
    "for doc in tqdm(docs):\n",
    "    url = doc.metadata['source']\n",
    "    md5.update(url.encode('utf-8'))\n",
    "    uid = md5.hexdigest()[:12]\n",
    "    chunks = text_splitter.split_text(doc.page_content)\n",
    "    for i, chunk in enumerate(chunks):\n",
    "        documents.append({\n",
    "            'id': f'{uid}-{i}',\n",
    "            'text': chunk,\n",
    "            'source': url\n",
    "        })\n",
    "\n",
    "len(documents)\n"
   ]
  },
  {
   "cell_type": "code",
   "execution_count": null,
   "metadata": {},
   "outputs": [],
   "source": [
    "import json\n",
    "\n",
    "with open('input/train.jsonl', 'w') as f:\n",
    "    for doc in documents:\n",
    "        f.write(json.dumps(doc) + '\\n')"
   ]
  }
 ],
 "metadata": {
  "kernelspec": {
   "display_name": "p39",
   "language": "python",
   "name": "python3"
  },
  "language_info": {
   "codemirror_mode": {
    "name": "ipython",
    "version": 3
   },
   "file_extension": ".py",
   "mimetype": "text/x-python",
   "name": "python",
   "nbconvert_exporter": "python",
   "pygments_lexer": "ipython3",
   "version": "3.9.12"
  }
 },
 "nbformat": 4,
 "nbformat_minor": 2
}
